{
 "cells": [
  {
   "cell_type": "markdown",
   "id": "97a07266",
   "metadata": {},
   "source": [
    "# Análise de Leitos Hospitalares por Estado – 2019\n",
    "\n",
    "Este notebook apresenta uma exploração dos dados de leitos hospitalares existentes em 2019, agregados por estado, com ênfase no total de leitos, leitos destinados ao Sistema Único de Saúde (SUS) e leitos de Unidade de Terapia Intensiva (UTI).\n",
    "\n",
    "Os dados foram obtidos do conjunto **Hospitais e Leitos** do Portal de Dados Abertos do Ministério da Saúde e agregados por UF.\n"
   ]
  },
  {
   "cell_type": "code",
   "execution_count": null,
   "id": "89d7a870",
   "metadata": {},
   "outputs": [],
   "source": [
    "import pandas as pd\n",
    "import matplotlib.pyplot as plt\n",
    "\n",
    "df = pd.read_csv('/home/oai/share/hospital_beds_2019_state.csv')\n",
    "# Visualizar as primeiras linhas\n",
    "df.head()\n"
   ]
  },
  {
   "cell_type": "code",
   "execution_count": null,
   "id": "0db35adf",
   "metadata": {},
   "outputs": [],
   "source": [
    "# Ordenar estados por total de leitos\n",
    "df_sorted = df.sort_values(by='total_beds', ascending=False)\n",
    "\n",
    "# Gráfico de barras para total de leitos\n",
    "plt.figure()\n",
    "plt.bar(df_sorted['UF'], df_sorted['total_beds'])\n",
    "plt.title('Total de leitos por estado (2019)')\n",
    "plt.xlabel('Estado')\n",
    "plt.ylabel('Número de leitos')\n",
    "plt.xticks(rotation=90)\n",
    "plt.show()\n",
    "\n",
    "# Proporção de leitos SUS\n",
    "df_sorted['sus_ratio'] = df_sorted['sus_beds'] / df_sorted['total_beds']\n",
    "\n",
    "plt.figure()\n",
    "plt.bar(df_sorted['UF'], df_sorted['sus_ratio'])\n",
    "plt.title('Proporção de leitos SUS sobre o total de leitos (2019)')\n",
    "plt.xlabel('Estado')\n",
    "plt.ylabel('Proporção (0-1)')\n",
    "plt.xticks(rotation=90)\n",
    "plt.show()\n",
    "\n",
    "# Proporção de leitos de UTI\n",
    "df_sorted['uti_ratio'] = df_sorted['total_uti'] / df_sorted['total_beds']\n",
    "plt.figure()\n",
    "plt.bar(df_sorted['UF'], df_sorted['uti_ratio'])\n",
    "plt.title('Proporção de leitos de UTI sobre total de leitos (2019)')\n",
    "plt.xlabel('Estado')\n",
    "plt.ylabel('Proporção (0-1)')\n",
    "plt.xticks(rotation=90)\n",
    "plt.show()\n"
   ]
  },
  {
   "cell_type": "markdown",
   "id": "edd23b10",
   "metadata": {},
   "source": [
    "## Observações\n",
    "\n",
    "- **São Paulo (SP)** apresenta o maior número absoluto de leitos existentes, seguido por Minas Gerais (MG) e Bahia (BA).\n",
    "- Estados com menor população (por exemplo, **Roraima – RR** e **Amapá – AP**) têm menor número absoluto de leitos.\n",
    "- A proporção de leitos SUS varia significativamente: alguns estados têm mais de 80% dos leitos dedicados ao SUS, enquanto outros possuem maior participação privada.\n",
    "- A proporção de leitos de UTI também varia; estados maiores tendem a concentrar mais UTI, refletindo maior capacidade de atendimento de alta complexidade.\n",
    "\n",
    "Essas análises fornecem uma visão geral da distribuição de infraestrutura hospitalar no Brasil e servem como base para investigações adicionais sobre a relação entre disponibilidade de leitos e desfechos de saúde.\n"
   ]
  }
 ],
 "metadata": {},
 "nbformat": 4,
 "nbformat_minor": 5
}
