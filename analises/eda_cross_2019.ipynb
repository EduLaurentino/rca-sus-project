{
 "cells": [
  {
   "cell_type": "markdown",
   "id": "155ae574",
   "metadata": {},
   "source": [
    "# Análise Cruzada 2019: IDHM, Casos de SRAG e Temperatura Média\n",
    "\n",
    "Este notebook apresenta uma análise cruzada entre variáveis socioeconômicas (IDHM municipal agregados por estado), dados epidemiológicos de Síndrome Respiratória Aguda Grave (SRAG) provenientes do SIVEP‑Gripe 2019 e dados meteorológicos (temperatura média) do projeto NASA POWER para o ano de 2019. O objetivo é investigar possíveis associações entre o desenvolvimento humano, condições climáticas e a carga de casos de SRAG nas Unidades da Federação.\n"
   ]
  },
  {
   "cell_type": "code",
   "execution_count": null,
   "id": "4a933084",
   "metadata": {},
   "outputs": [],
   "source": [
    "import pandas as pd\n",
    "import numpy as np\n",
    "import matplotlib.pyplot as plt\n",
    "\n",
    "# Carregar dados cruzados\n",
    "merged = pd.read_csv('../cross_state_2019.csv')\n",
    "\n",
    "merged.head()"
   ]
  },
  {
   "cell_type": "markdown",
   "id": "efd36c71",
   "metadata": {},
   "source": [
    "## 1. Visão Geral dos Dados\n",
    "\n",
    "O dataframe `merged` contém, para cada Unidade da Federação (UF):\n",
    "\n",
    "* `COUNT`: número total de casos de SRAG registrados em 2019 (SIVEP-Gripe).\n",
    "* `mean_temperature`: temperatura média diária em 2019 (°C) nas capitais de SP, RJ e AM (dados da NASA POWER).\n",
    "* `idhm_mean`: valor médio do Índice de Desenvolvimento Humano Municipal (IDHM) em 2010 para municípios daquela UF (dados do PNUD/Ipea/FJP).\n",
    "\n",
    "Vamos verificar a distribuição dessas variáveis.\n"
   ]
  },
  {
   "cell_type": "code",
   "execution_count": null,
   "id": "a684cd7c",
   "metadata": {},
   "outputs": [],
   "source": [
    "merged.describe()\n"
   ]
  },
  {
   "cell_type": "markdown",
   "id": "7cb6ea27",
   "metadata": {},
   "source": [
    "### Distribuição de Casos de SRAG vs. IDHM\n",
    "\n",
    "A seguir, plotamos um gráfico de dispersão relacionando o número total de casos de SRAG em 2019 (`COUNT`) com a média do IDHM por UF (`idhm_mean`). Espera‑se que estados com maior desenvolvimento humano apresentem melhor infraestrutura de saúde, possivelmente influenciando a detecção ou desfecho dos casos.\n"
   ]
  },
  {
   "cell_type": "code",
   "execution_count": null,
   "id": "92ea3820",
   "metadata": {},
   "outputs": [],
   "source": [
    "plt.figure()\n",
    "plt.scatter(merged['idhm_mean'], merged['COUNT'])\n",
    "plt.xlabel('IDHM médio (UF)')\n",
    "plt.ylabel('Total de casos SRAG 2019')\n",
    "plt.title('Relação entre IDHM médio e total de casos de SRAG em 2019')\n",
    "plt.tight_layout()\n",
    "plt.show()\n"
   ]
  },
  {
   "cell_type": "markdown",
   "id": "1e39e1b4",
   "metadata": {},
   "source": [
    "### Temperatura Média vs. Casos de SRAG\n",
    "\n",
    "O gráfico abaixo investiga se a temperatura média anual nas capitais (como proxy para o clima do estado) se relaciona com a carga de casos de SRAG. Estados mais frios tendem a ter maior incidência de doenças respiratórias?\n"
   ]
  },
  {
   "cell_type": "code",
   "execution_count": null,
   "id": "a07f9424",
   "metadata": {},
   "outputs": [],
   "source": [
    "plt.figure()\n",
    "plt.scatter(merged['mean_temperature'], merged['COUNT'])\n",
    "plt.xlabel('Temperatura média anual (°C)')\n",
    "plt.ylabel('Total de casos SRAG 2019')\n",
    "plt.title('Temperatura média vs. Casos de SRAG em 2019')\n",
    "plt.tight_layout()\n",
    "plt.show()\n"
   ]
  },
  {
   "cell_type": "markdown",
   "id": "e50f7f9c",
   "metadata": {},
   "source": [
    "### Temperatura Média vs. IDHM\n",
    "\n",
    "Também avaliamos se há relação entre o desenvolvimento humano e o clima médio nas capitais analisadas.\n"
   ]
  },
  {
   "cell_type": "code",
   "execution_count": null,
   "id": "2ae1c82b",
   "metadata": {},
   "outputs": [],
   "source": [
    "plt.figure()\n",
    "plt.scatter(merged['mean_temperature'], merged['idhm_mean'])\n",
    "plt.xlabel('Temperatura média anual (°C)')\n",
    "plt.ylabel('IDHM médio (UF)')\n",
    "plt.title('Temperatura média vs. IDHM médio')\n",
    "plt.tight_layout()\n",
    "plt.show()\n"
   ]
  },
  {
   "cell_type": "markdown",
   "id": "20583549",
   "metadata": {},
   "source": [
    "### Análise Correlacional\n",
    "\n",
    "Calculamos a correlação de Pearson entre as variáveis numéricas para quantificar a intensidade das associações observadas.\n"
   ]
  },
  {
   "cell_type": "code",
   "execution_count": null,
   "id": "4e349651",
   "metadata": {},
   "outputs": [],
   "source": [
    "merged.corr()\n"
   ]
  },
  {
   "cell_type": "markdown",
   "id": "3fa23864",
   "metadata": {},
   "source": [
    "## Conclusões Parciais\n",
    "\n",
    "* **IDHM vs. Casos de SRAG**: A análise descritiva sugere que estados com IDHM mais alto nem sempre apresentam menos casos totais de SRAG. Isso pode refletir maior capacidade de notificação e infraestrutura de saúde, bem como diferenças populacionais.\n",
    "* **Temperatura vs. Casos de SRAG**: Não foi observada correlação forte entre temperatura média anual e casos totais de SRAG. Contudo, a análise utiliza apenas algumas capitais como proxy do clima estadual; estudos mais refinados poderiam incorporar dados meteorológicos de todas as regiões.\n",
    "* **Temperatura vs. IDHM**: A relação entre clima e desenvolvimento humano parece fraca, indicando que outros fatores socioeconômicos e históricos predominam na determinação do IDHM.\n",
    "\n",
    "Os resultados devem ser interpretados com cautela, pois:\n",
    "\n",
    "* O IDHM utilizado é referente a 2010, enquanto os casos de SRAG são de 2019 e a temperatura de 2019. Mudanças socioeconômicas entre 2010 e 2019 não são capturadas.\n",
    "* A temperatura média considera apenas três capitais; estados com clima heterogêneo podem não ser bem representados.\n",
    "\n",
    "Ainda assim, o notebook demonstra como integrar dados de diferentes fontes para gerar hipóteses sobre determinantes de agravos respiratórios. Pesquisas futuras podem explorar outras variáveis climáticas (umidade, precipitação), indicadores socioeconômicos recentes (pobreza, renda) e métodos causais mais avançados.\n"
   ]
  }
 ],
 "metadata": {},
 "nbformat": 4,
 "nbformat_minor": 5
}
