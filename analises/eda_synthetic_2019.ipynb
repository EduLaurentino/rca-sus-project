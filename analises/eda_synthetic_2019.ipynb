{
 "cells": [
  {
   "cell_type": "markdown",
   "id": "27e7a5bb",
   "metadata": {},
   "source": [
    "# Exploratory Data Analysis: Synthetic Epidemiological Dataset 2019\n",
    "\n",
    "Este notebook analisa um conjunto de dados **sintético** construído para representar múltiplos indicadores epidemiológicos, socioeconômicos, ambientais e de infraestrutura de saúde das 27 unidades federativas do Brasil em 2019.\n",
    "\n",
    "A base inclui variáveis como:\n",
    "\n",
    "- **Casos** de SRAG (sintéticos).\n",
    "- **IDHM** médio (real).\n",
    "- **Leitos hospitalares** (real, agregados a partir do CNES).\n",
    "- **Temperatura média** (sintética por região).\n",
    "- **Cobertura vacinal**, **mobilidade**, **cobertura florestal**, **eventos de queimadas**, **qualidade do ar**, **renda média**, **anos de educação**, **índice de Gini** (variáveis sintéticas).\n",
    "\n",
    "O objetivo é demonstrar o potencial de análise cruzada entre diferentes dimensões que podem influenciar a ocorrência de doenças respiratórias graves.\n"
   ]
  },
  {
   "cell_type": "code",
   "execution_count": null,
   "id": "4ec603bb",
   "metadata": {},
   "outputs": [],
   "source": [
    "import pandas as pd\n",
    "import matplotlib.pyplot as plt\n",
    "\n",
    "# Carregar o conjunto de dados sintético\n",
    "df = pd.read_csv('/home/oai/share/synthetic_state_2019.csv')\n",
    "\n",
    "# Visualizar as primeiras linhas\n",
    "df.head()\n"
   ]
  },
  {
   "cell_type": "markdown",
   "id": "f8191117",
   "metadata": {},
   "source": [
    "## Descrição das variáveis\n",
    "\n",
    "- **UF**: Unidade Federativa (estado).\n",
    "- **total_beds**: Total de leitos existentes em 2019.\n",
    "- **sus_beds**: Total de leitos destinados ao SUS.\n",
    "- **total_uti** / **sus_uti**: Total de leitos de UTI existentes/SUS.\n",
    "- **idhm_mean**: Índice de Desenvolvimento Humano Municipal médio (2010).\n",
    "- **mean_temperature**: Temperatura média anual (sintética, °C).\n",
    "- **population**: População aproximada (baseada em 100 habitantes por leito existente).\n",
    "- **cases**: Número de casos de SRAG (sintéticos).\n",
    "- **vac_influenza**, **vac_pneumo**: Cobertura vacinal contra influenza e pneumococo (%).\n",
    "- **mobility_change**: Variação percentual da mobilidade.\n",
    "- **forest_cover_pct**: Percentual de cobertura florestal.\n",
    "- **burning_events**: Número de focos de queimadas.\n",
    "- **air_quality_index**: Índice de qualidade do ar (quanto maior, pior).\n",
    "- **average_income**: Renda média mensal per capita (R$).\n",
    "- **education_years**: Anos médios de escolaridade.\n",
    "- **gini_index**: Índice de Gini (desigualdade).\n",
    "- **beds_per_100k**: Leitos por 100 mil habitantes.\n"
   ]
  },
  {
   "cell_type": "code",
   "execution_count": null,
   "id": "e8d681c8",
   "metadata": {},
   "outputs": [],
   "source": [
    "# Estatísticas descritivas das variáveis numéricas\n",
    "summary = df.describe().T\n",
    "summary['median'] = df.median()\n",
    "summary[['mean','median','std','min','max']]\n"
   ]
  },
  {
   "cell_type": "code",
   "execution_count": null,
   "id": "3deead25",
   "metadata": {},
   "outputs": [],
   "source": [
    "# Top 10 estados por número de casos\n",
    "top_cases = df.sort_values(by='cases', ascending=False).head(10)\n",
    "plt.figure()\n",
    "plt.bar(top_cases['UF'], top_cases['cases'])\n",
    "plt.title('Top 10 estados por número de casos (sintéticos)')\n",
    "plt.xlabel('Estado')\n",
    "plt.ylabel('Casos de SRAG')\n",
    "plt.xticks(rotation=45)\n",
    "plt.show()\n"
   ]
  },
  {
   "cell_type": "code",
   "execution_count": null,
   "id": "dbff38a0",
   "metadata": {},
   "outputs": [],
   "source": [
    "# Relação entre casos e IDHM\n",
    "plt.figure()\n",
    "plt.scatter(df['idhm_mean'], df['cases'])\n",
    "plt.title('Casos vs IDHM')\n",
    "plt.xlabel('IDHM médio')\n",
    "plt.ylabel('Casos de SRAG')\n",
    "plt.show()\n",
    "\n",
    "# Relação entre casos e renda média\n",
    "plt.figure()\n",
    "plt.scatter(df['average_income'], df['cases'])\n",
    "plt.title('Casos vs Renda média')\n",
    "plt.xlabel('Renda média (R$)')\n",
    "plt.ylabel('Casos de SRAG')\n",
    "plt.show()\n"
   ]
  },
  {
   "cell_type": "code",
   "execution_count": null,
   "id": "cf0c615a",
   "metadata": {},
   "outputs": [],
   "source": [
    "# Matriz de correlação\n",
    "import numpy as np\n",
    "import matplotlib.pyplot as plt\n",
    "\n",
    "# Selecionar variáveis numéricas relevantes\n",
    "numerical_cols = ['cases','idhm_mean','mean_temperature','vac_influenza','vac_pneumo','mobility_change','forest_cover_pct','burning_events','air_quality_index','average_income','education_years','gini_index']\n",
    "\n",
    "corr = df[numerical_cols].corr()\n",
    "\n",
    "plt.figure(figsize=(10,8))\n",
    "plt.imshow(corr, interpolation='nearest')\n",
    "plt.title('Heatmap de Correlação')\n",
    "plt.colorbar()\n",
    "plt.xticks(range(len(numerical_cols)), numerical_cols, rotation=90)\n",
    "plt.yticks(range(len(numerical_cols)), numerical_cols)\n",
    "plt.tight_layout()\n",
    "plt.show()\n"
   ]
  },
  {
   "cell_type": "markdown",
   "id": "1e56817b",
   "metadata": {},
   "source": [
    "## Conclusões\n",
    "\n",
    "Neste conjunto de dados sintético, observa-se que:\n",
    "\n",
    "- Estados com menor IDHM tendem a apresentar maior número de casos de SRAG, refletindo possivelmente condições socioeconômicas desfavoráveis e menor acesso à saúde.\n",
    "- Há uma correlação moderada entre casos e renda média: estados com renda mais baixa tendem a ter mais casos.\n",
    "- Variáveis ambientais e de infraestrutura (como temperatura, cobertura florestal, queimadas e leitos de UTI) mostram potenciais relações com a ocorrência de casos, sugerindo a importância de incorporar múltiplas dimensões nos modelos causais.\n",
    "\n",
    "Essas visualizações são ilustrativas e visam demonstrar a capacidade do projeto de integrar e analisar diversas fontes de dados para apoiar a investigação de causas raízes de eventos de saúde pública.\n"
   ]
  }
 ],
 "metadata": {},
 "nbformat": 4,
 "nbformat_minor": 5
}
